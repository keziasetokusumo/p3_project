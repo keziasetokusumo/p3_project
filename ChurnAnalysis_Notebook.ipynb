{
 "cells": [
  {
   "cell_type": "markdown",
   "metadata": {},
   "source": [
    "## Final Project Submission\n",
    "* Student name: Kezia Setokusumo\n",
    "* Student pace: Self-Paced\n",
    "* Scheduled project review date/time: May 24, 2023\n",
    "* Instructor name: Mark Barbour\n",
    "* [Blog post](https://medium.com/@khs366/an-overview-of-common-machine-learning-models-992abdd4278a)"
   ]
  },
  {
   "cell_type": "markdown",
   "metadata": {},
   "source": [
    "## Business Overview and Problem Statement\n",
    "This project focuses on leveraging data from [SyriaTel](https://www.kaggle.com/datasets/becksddf/churn-in-telecoms-dataset), a telecommunications company, to determine if a given customer will soon churn. Within a business context, churn is defined as the rate at which customers discontinue doing business with a provider over a defined period of time. Churn is a metric that companies within the telecommunications space closely track. \n",
    "\n",
    "Using SyriaTel's dataset and machine learning processes, the goal of this project is to identify predictable patterns that companies like SyriaTel can look for to distinguish customers that might churn. Through this, we can recommend attributes that should be addressed early on and improve the likelihood of retention.\n",
    "\n",
    "The scope of this project includes data inspection, preprocessing, iterative modeling, final modeling, and overall evaluation."
   ]
  },
  {
   "cell_type": "markdown",
   "metadata": {},
   "source": [
    "## The Data\n",
    "The dataset contains information on the telecom company's customers. Below are the descriptions of the columns representing information about each consumer:\n",
    "\n",
    "* `state`: user's state\n",
    "* `account length`: number of days the user's account has been active for\n",
    "* `area code`: user's area code\n",
    "* `phone number`: user's phone number\n",
    "* `international plan`: true if the user has the international plan, otherwise false\n",
    "* `voice mail plan`: true if the user has the voice mail plan, otherwise false\n",
    "* `number vmail messages`: number of voicemails the user has sent\n",
    "* `total day minutes`: call minutes during the day\n",
    "* `total day calls`: number of calls during the day\n",
    "* `total day charge`: amount charged to the user for day calls\n",
    "* `total eve minutes`: call minutes during the evening\n",
    "* `total eve calls`: number of calls during the evening\n",
    "* `total eve charge`: amount charged to the user for evening calls\n",
    "* `total night minutes`: call minutes during the night\n",
    "* `total night calls`: number of calls during the night\n",
    "* `total night charge`: amount charged to the user for night calls\n",
    "* `total intl minutes`: call minutes for international calls\n",
    "* `total intl calls`: number of international calls\n",
    "* `total intl charge`: amount charged to the user for international calls\n",
    "* `customer service calls`: number of customer service calls\n",
    "* `churn`: true if the user terminated the contract, otherwise false\n",
    "\n",
    "There are 21 columns in the dataset, and `churn` is treated as the target variable. A `churn` value of 1 means that a customer churns, while a value of 0 means the customer does not churn. The remaining 20 columns provide a glimpse into the customer's profile and usage patterns. At a glance, it appears that some of these columns have a strong relationship between one another. Some machine learning models such as logistic regressions and kNNs are impacted by multicollinearity. Hence, to account for this, we dropped one of any similar pairs in our data exploration stage."
   ]
  },
  {
   "cell_type": "markdown",
   "metadata": {},
   "source": [
    "## Methods\n",
    "To classify customers into churn or no churn, we analyzed the data with several different algorithms. We built a baseline version of each algorithm:\n",
    " * Logistic Regression\n",
    " * K-Nearest Neighbors\n",
    " * Decision Trees\n",
    "\n",
    "Afterwards, we performed iterative modeling to identify which hyperparameters work best. To select a final model, we evaluated performance based on:\n",
    "* accuracy\n",
    "* precision\n",
    "* recall (number of true positives out of all positives)\n",
    "* F1 score (a combination of recall and precision)\n",
    "\n",
    "Though we test for all four metrics, we give some emphasis to recall, since we want to minimize false negative predictions. In this context, we want to reduce false negative predictions because we'd rather overestimate the number of churning customers versus the number of non-churning customers. Data exploration, cleaning, and preprocessing is also done during the initial stages to ensure that all models can run without error."
   ]
  },
  {
   "cell_type": "markdown",
   "metadata": {},
   "source": [
    "## Data Exploration, Cleaning, and Preprocessing"
   ]
  },
  {
   "cell_type": "markdown",
   "metadata": {},
   "source": [
    "The data exploration starts with passing the information into a dataframe and previewing the first few rows, as shown below."
   ]
  },
  {
   "cell_type": "code",
   "execution_count": 1,
   "metadata": {},
   "outputs": [
    {
     "data": {
      "text/html": [
       "<div>\n",
       "<style scoped>\n",
       "    .dataframe tbody tr th:only-of-type {\n",
       "        vertical-align: middle;\n",
       "    }\n",
       "\n",
       "    .dataframe tbody tr th {\n",
       "        vertical-align: top;\n",
       "    }\n",
       "\n",
       "    .dataframe thead th {\n",
       "        text-align: right;\n",
       "    }\n",
       "</style>\n",
       "<table border=\"1\" class=\"dataframe\">\n",
       "  <thead>\n",
       "    <tr style=\"text-align: right;\">\n",
       "      <th></th>\n",
       "      <th>state</th>\n",
       "      <th>account length</th>\n",
       "      <th>area code</th>\n",
       "      <th>phone number</th>\n",
       "      <th>international plan</th>\n",
       "      <th>voice mail plan</th>\n",
       "      <th>number vmail messages</th>\n",
       "      <th>total day minutes</th>\n",
       "      <th>total day calls</th>\n",
       "      <th>total day charge</th>\n",
       "      <th>...</th>\n",
       "      <th>total eve calls</th>\n",
       "      <th>total eve charge</th>\n",
       "      <th>total night minutes</th>\n",
       "      <th>total night calls</th>\n",
       "      <th>total night charge</th>\n",
       "      <th>total intl minutes</th>\n",
       "      <th>total intl calls</th>\n",
       "      <th>total intl charge</th>\n",
       "      <th>customer service calls</th>\n",
       "      <th>churn</th>\n",
       "    </tr>\n",
       "  </thead>\n",
       "  <tbody>\n",
       "    <tr>\n",
       "      <th>0</th>\n",
       "      <td>KS</td>\n",
       "      <td>128</td>\n",
       "      <td>415</td>\n",
       "      <td>382-4657</td>\n",
       "      <td>no</td>\n",
       "      <td>yes</td>\n",
       "      <td>25</td>\n",
       "      <td>265.1</td>\n",
       "      <td>110</td>\n",
       "      <td>45.07</td>\n",
       "      <td>...</td>\n",
       "      <td>99</td>\n",
       "      <td>16.78</td>\n",
       "      <td>244.7</td>\n",
       "      <td>91</td>\n",
       "      <td>11.01</td>\n",
       "      <td>10.0</td>\n",
       "      <td>3</td>\n",
       "      <td>2.70</td>\n",
       "      <td>1</td>\n",
       "      <td>False</td>\n",
       "    </tr>\n",
       "    <tr>\n",
       "      <th>1</th>\n",
       "      <td>OH</td>\n",
       "      <td>107</td>\n",
       "      <td>415</td>\n",
       "      <td>371-7191</td>\n",
       "      <td>no</td>\n",
       "      <td>yes</td>\n",
       "      <td>26</td>\n",
       "      <td>161.6</td>\n",
       "      <td>123</td>\n",
       "      <td>27.47</td>\n",
       "      <td>...</td>\n",
       "      <td>103</td>\n",
       "      <td>16.62</td>\n",
       "      <td>254.4</td>\n",
       "      <td>103</td>\n",
       "      <td>11.45</td>\n",
       "      <td>13.7</td>\n",
       "      <td>3</td>\n",
       "      <td>3.70</td>\n",
       "      <td>1</td>\n",
       "      <td>False</td>\n",
       "    </tr>\n",
       "    <tr>\n",
       "      <th>2</th>\n",
       "      <td>NJ</td>\n",
       "      <td>137</td>\n",
       "      <td>415</td>\n",
       "      <td>358-1921</td>\n",
       "      <td>no</td>\n",
       "      <td>no</td>\n",
       "      <td>0</td>\n",
       "      <td>243.4</td>\n",
       "      <td>114</td>\n",
       "      <td>41.38</td>\n",
       "      <td>...</td>\n",
       "      <td>110</td>\n",
       "      <td>10.30</td>\n",
       "      <td>162.6</td>\n",
       "      <td>104</td>\n",
       "      <td>7.32</td>\n",
       "      <td>12.2</td>\n",
       "      <td>5</td>\n",
       "      <td>3.29</td>\n",
       "      <td>0</td>\n",
       "      <td>False</td>\n",
       "    </tr>\n",
       "    <tr>\n",
       "      <th>3</th>\n",
       "      <td>OH</td>\n",
       "      <td>84</td>\n",
       "      <td>408</td>\n",
       "      <td>375-9999</td>\n",
       "      <td>yes</td>\n",
       "      <td>no</td>\n",
       "      <td>0</td>\n",
       "      <td>299.4</td>\n",
       "      <td>71</td>\n",
       "      <td>50.90</td>\n",
       "      <td>...</td>\n",
       "      <td>88</td>\n",
       "      <td>5.26</td>\n",
       "      <td>196.9</td>\n",
       "      <td>89</td>\n",
       "      <td>8.86</td>\n",
       "      <td>6.6</td>\n",
       "      <td>7</td>\n",
       "      <td>1.78</td>\n",
       "      <td>2</td>\n",
       "      <td>False</td>\n",
       "    </tr>\n",
       "    <tr>\n",
       "      <th>4</th>\n",
       "      <td>OK</td>\n",
       "      <td>75</td>\n",
       "      <td>415</td>\n",
       "      <td>330-6626</td>\n",
       "      <td>yes</td>\n",
       "      <td>no</td>\n",
       "      <td>0</td>\n",
       "      <td>166.7</td>\n",
       "      <td>113</td>\n",
       "      <td>28.34</td>\n",
       "      <td>...</td>\n",
       "      <td>122</td>\n",
       "      <td>12.61</td>\n",
       "      <td>186.9</td>\n",
       "      <td>121</td>\n",
       "      <td>8.41</td>\n",
       "      <td>10.1</td>\n",
       "      <td>3</td>\n",
       "      <td>2.73</td>\n",
       "      <td>3</td>\n",
       "      <td>False</td>\n",
       "    </tr>\n",
       "  </tbody>\n",
       "</table>\n",
       "<p>5 rows × 21 columns</p>\n",
       "</div>"
      ],
      "text/plain": [
       "  state  account length  area code phone number international plan  \\\n",
       "0    KS             128        415     382-4657                 no   \n",
       "1    OH             107        415     371-7191                 no   \n",
       "2    NJ             137        415     358-1921                 no   \n",
       "3    OH              84        408     375-9999                yes   \n",
       "4    OK              75        415     330-6626                yes   \n",
       "\n",
       "  voice mail plan  number vmail messages  total day minutes  total day calls  \\\n",
       "0             yes                     25              265.1              110   \n",
       "1             yes                     26              161.6              123   \n",
       "2              no                      0              243.4              114   \n",
       "3              no                      0              299.4               71   \n",
       "4              no                      0              166.7              113   \n",
       "\n",
       "   total day charge  ...  total eve calls  total eve charge  \\\n",
       "0             45.07  ...               99             16.78   \n",
       "1             27.47  ...              103             16.62   \n",
       "2             41.38  ...              110             10.30   \n",
       "3             50.90  ...               88              5.26   \n",
       "4             28.34  ...              122             12.61   \n",
       "\n",
       "   total night minutes  total night calls  total night charge  \\\n",
       "0                244.7                 91               11.01   \n",
       "1                254.4                103               11.45   \n",
       "2                162.6                104                7.32   \n",
       "3                196.9                 89                8.86   \n",
       "4                186.9                121                8.41   \n",
       "\n",
       "   total intl minutes  total intl calls  total intl charge  \\\n",
       "0                10.0                 3               2.70   \n",
       "1                13.7                 3               3.70   \n",
       "2                12.2                 5               3.29   \n",
       "3                 6.6                 7               1.78   \n",
       "4                10.1                 3               2.73   \n",
       "\n",
       "   customer service calls  churn  \n",
       "0                       1  False  \n",
       "1                       1  False  \n",
       "2                       0  False  \n",
       "3                       2  False  \n",
       "4                       3  False  \n",
       "\n",
       "[5 rows x 21 columns]"
      ]
     },
     "execution_count": 1,
     "metadata": {},
     "output_type": "execute_result"
    }
   ],
   "source": [
    "# Import relevant function(s)\n",
    "import pandas as pd\n",
    "\n",
    "# Convert the file into a dataframe\n",
    "data = pd.read_csv('SyriaTel_Data.csv')\n",
    "df = pd.DataFrame(data)\n",
    "df.head()"
   ]
  },
  {
   "cell_type": "markdown",
   "metadata": {},
   "source": [
    "We'll continue by inspecting the dataframe for any missing or null values."
   ]
  },
  {
   "cell_type": "code",
   "execution_count": 2,
   "metadata": {
    "scrolled": false
   },
   "outputs": [
    {
     "data": {
      "text/plain": [
       "state                     0\n",
       "account length            0\n",
       "area code                 0\n",
       "phone number              0\n",
       "international plan        0\n",
       "voice mail plan           0\n",
       "number vmail messages     0\n",
       "total day minutes         0\n",
       "total day calls           0\n",
       "total day charge          0\n",
       "total eve minutes         0\n",
       "total eve calls           0\n",
       "total eve charge          0\n",
       "total night minutes       0\n",
       "total night calls         0\n",
       "total night charge        0\n",
       "total intl minutes        0\n",
       "total intl calls          0\n",
       "total intl charge         0\n",
       "customer service calls    0\n",
       "churn                     0\n",
       "dtype: int64"
      ]
     },
     "execution_count": 2,
     "metadata": {},
     "output_type": "execute_result"
    }
   ],
   "source": [
    "# Check for any missing values\n",
    "df.isna().sum()"
   ]
  },
  {
   "cell_type": "markdown",
   "metadata": {},
   "source": [
    "There are no null values in this dataset, so we'll proceed with the rest of the exploration."
   ]
  },
  {
   "cell_type": "markdown",
   "metadata": {},
   "source": [
    "Some of the columns appear to be very related, such as `total day charge` / `total day minutes` and `total intl charge` / `total intl minutes`. To avoid multicollinearity so our machine learning processes run correctly, we'll create a dataframe of correlations and drop one of the columns from any highly-correlated pairs."
   ]
  },
  {
   "cell_type": "markdown",
   "metadata": {},
   "source": [
    "In the cell below, we create a correlation heatmap to get a glimpse of any two attributes that have a strong relationship. 1 means the two columns are perfectly correlated and 0 means the two columns have no relationship."
   ]
  },
  {
   "cell_type": "code",
   "execution_count": 3,
   "metadata": {},
   "outputs": [
    {
     "data": {
      "image/png": "[encoded data removed]",
      "text/plain": [
       "<Figure size 1080x720 with 2 Axes>"
      ]
     },
     "metadata": {
      "needs_background": "light"
     },
     "output_type": "display_data"
    }
   ],
   "source": [
    "# Import relevant function(s)\n",
    "import seaborn as sns\n",
    "import matplotlib.pyplot as plt\n",
    "plt.figure(figsize=(15,10))\n",
    "corr_heatmap = sns.heatmap(df.corr(), vmin=-1, vmax=1, annot=True)\n",
    "corr_heatmap.set_title('Correlation Heatmap of Columns', fontdict={'fontsize':12}, pad=12);"
   ]
  },
  {
   "cell_type": "markdown",
   "metadata": {},
   "source": [
    "From the heatmap, it seems that columns with similar names such as `total intl charge` and `total intl minutes` have a perfect or nearly perfect relationship. In the cell below, we define the variable `df_corr` (a dataframe of pairs and their corresponding correlation score) and display the rows that have a value above 0.96."
   ]
  },
  {
   "cell_type": "code",
   "execution_count": 4,
   "metadata": {},
   "outputs": [
    {
     "data": {
      "text/html": [
       "<div>\n",
       "<style scoped>\n",
       "    .dataframe tbody tr th:only-of-type {\n",
       "        vertical-align: middle;\n",
       "    }\n",
       "\n",
       "    .dataframe tbody tr th {\n",
       "        vertical-align: top;\n",
       "    }\n",
       "\n",
       "    .dataframe thead th {\n",
       "        text-align: right;\n",
       "    }\n",
       "</style>\n",
       "<table border=\"1\" class=\"dataframe\">\n",
       "  <thead>\n",
       "    <tr style=\"text-align: right;\">\n",
       "      <th></th>\n",
       "      <th>corr</th>\n",
       "      <th>combination</th>\n",
       "    </tr>\n",
       "  </thead>\n",
       "  <tbody>\n",
       "    <tr>\n",
       "      <th>88</th>\n",
       "      <td>1.000000</td>\n",
       "      <td>(total day charge, total day minutes)</td>\n",
       "    </tr>\n",
       "    <tr>\n",
       "      <th>56</th>\n",
       "      <td>1.000000</td>\n",
       "      <td>(total day minutes, total day charge)</td>\n",
       "    </tr>\n",
       "    <tr>\n",
       "      <th>110</th>\n",
       "      <td>1.000000</td>\n",
       "      <td>(total eve minutes, total eve charge)</td>\n",
       "    </tr>\n",
       "    <tr>\n",
       "      <th>142</th>\n",
       "      <td>1.000000</td>\n",
       "      <td>(total eve charge, total eve minutes)</td>\n",
       "    </tr>\n",
       "    <tr>\n",
       "      <th>164</th>\n",
       "      <td>0.999999</td>\n",
       "      <td>(total night minutes, total night charge)</td>\n",
       "    </tr>\n",
       "    <tr>\n",
       "      <th>196</th>\n",
       "      <td>0.999999</td>\n",
       "      <td>(total night charge, total night minutes)</td>\n",
       "    </tr>\n",
       "    <tr>\n",
       "      <th>250</th>\n",
       "      <td>0.999993</td>\n",
       "      <td>(total intl charge, total intl minutes)</td>\n",
       "    </tr>\n",
       "    <tr>\n",
       "      <th>218</th>\n",
       "      <td>0.999993</td>\n",
       "      <td>(total intl minutes, total intl charge)</td>\n",
       "    </tr>\n",
       "  </tbody>\n",
       "</table>\n",
       "</div>"
      ],
      "text/plain": [
       "         corr                                combination\n",
       "88   1.000000      (total day charge, total day minutes)\n",
       "56   1.000000      (total day minutes, total day charge)\n",
       "110  1.000000      (total eve minutes, total eve charge)\n",
       "142  1.000000      (total eve charge, total eve minutes)\n",
       "164  0.999999  (total night minutes, total night charge)\n",
       "196  0.999999  (total night charge, total night minutes)\n",
       "250  0.999993    (total intl charge, total intl minutes)\n",
       "218  0.999993    (total intl minutes, total intl charge)"
      ]
     },
     "execution_count": 4,
     "metadata": {},
     "output_type": "execute_result"
    }
   ],
   "source": [
    "# Define the variable 'df_corr'\n",
    "df_corr = df.corr().abs().stack().reset_index().sort_values(0, ascending=False)\n",
    "\n",
    "# Create a column that names the pairs\n",
    "df_corr['combination'] = list(zip(df_corr.level_0, df_corr.level_1))\n",
    "df_corr.drop(['level_0', 'level_1'], axis=1, inplace=True)\n",
    "df_corr.columns = ['corr', 'combination']\n",
    "\n",
    "# Display the pairs that have a correlation greater than 0.96\n",
    "df_corr[(df_corr['corr']<1) & (df_corr['corr']>0.96)]"
   ]
  },
  {
   "cell_type": "markdown",
   "metadata": {},
   "source": [
    "This dataframe shows us which combinations are highly correlated. Next, we will drop one column from each pair to avoid multicollinearity in our analysis."
   ]
  },
  {
   "cell_type": "code",
   "execution_count": 5,
   "metadata": {},
   "outputs": [],
   "source": [
    "# Based on the results from the 'df_corr' dataframe, drop thte following columns from the dataset\n",
    "df = df.drop(['total day minutes', 'total eve minutes', 'total night minutes', 'total intl minutes'], axis=1)"
   ]
  },
  {
   "cell_type": "markdown",
   "metadata": {},
   "source": [
    "We've now dropped `total day minutes`, `total eve minutes`, `total night minutes`, and `total intl minutes` from the original dataframe. In the next few cells, we inspect the data type of the remaining attributes so we know which needs to be transformed."
   ]
  },
  {
   "cell_type": "code",
   "execution_count": 6,
   "metadata": {
    "scrolled": false
   },
   "outputs": [
    {
     "name": "stdout",
     "output_type": "stream",
     "text": [
      "<class 'pandas.core.frame.DataFrame'>\n",
      "RangeIndex: 3333 entries, 0 to 3332\n",
      "Data columns (total 17 columns):\n",
      " #   Column                  Non-Null Count  Dtype  \n",
      "---  ------                  --------------  -----  \n",
      " 0   state                   3333 non-null   object \n",
      " 1   account length          3333 non-null   int64  \n",
      " 2   area code               3333 non-null   int64  \n",
      " 3   phone number            3333 non-null   object \n",
      " 4   international plan      3333 non-null   object \n",
      " 5   voice mail plan         3333 non-null   object \n",
      " 6   number vmail messages   3333 non-null   int64  \n",
      " 7   total day calls         3333 non-null   int64  \n",
      " 8   total day charge        3333 non-null   float64\n",
      " 9   total eve calls         3333 non-null   int64  \n",
      " 10  total eve charge        3333 non-null   float64\n",
      " 11  total night calls       3333 non-null   int64  \n",
      " 12  total night charge      3333 non-null   float64\n",
      " 13  total intl calls        3333 non-null   int64  \n",
      " 14  total intl charge       3333 non-null   float64\n",
      " 15  customer service calls  3333 non-null   int64  \n",
      " 16  churn                   3333 non-null   bool   \n",
      "dtypes: bool(1), float64(4), int64(8), object(4)\n",
      "memory usage: 420.0+ KB\n"
     ]
    }
   ],
   "source": [
    "# Inspect the data type of each column\n",
    "df.info()"
   ]
  },
  {
   "cell_type": "markdown",
   "metadata": {},
   "source": [
    "\n",
    "Most of the columns are in numerical form. However, the columns `state`, `phone number`, `international plan`, and `voice mail plan` are objects. Additionally, the target column `churn` is a boolean. As part of preprocessing, we will transform these columns before passing the dataframe through models.\n"
   ]
  },
  {
   "cell_type": "markdown",
   "metadata": {},
   "source": [
    "`churn` is in boolean form, and the following cell canges the data type to binary. 0 for no churn, and 1 for churn."
   ]
  },
  {
   "cell_type": "code",
   "execution_count": 7,
   "metadata": {},
   "outputs": [],
   "source": [
    "# Target column 'churn' is in boolean form\n",
    "# Change the data type to binary (False: 0, True: 1)\n",
    "df['churn']=df['churn'].astype(int)"
   ]
  },
  {
   "cell_type": "markdown",
   "metadata": {},
   "source": [
    "`state` is the other column that we need to transform. We'll use the `LabelEncoder` function to assign a unique number to each unique state."
   ]
  },
  {
   "cell_type": "code",
   "execution_count": 8,
   "metadata": {
    "scrolled": true
   },
   "outputs": [
    {
     "data": {
      "text/plain": [
       "0       16\n",
       "1       35\n",
       "2       31\n",
       "3       35\n",
       "4       36\n",
       "        ..\n",
       "3328     3\n",
       "3329    49\n",
       "3330    39\n",
       "3331     6\n",
       "3332    42\n",
       "Name: state, Length: 3333, dtype: int64"
      ]
     },
     "execution_count": 8,
     "metadata": {},
     "output_type": "execute_result"
    }
   ],
   "source": [
    "# Import relevant function(s)\n",
    "from sklearn.preprocessing import LabelEncoder\n",
    "\n",
    "# Convert the states into numbers using LabelEncoder\n",
    "le = LabelEncoder()\n",
    "df['state']=le.fit_transform(df['state'])\n",
    "df['state']"
   ]
  },
  {
   "cell_type": "code",
   "execution_count": 9,
   "metadata": {
    "scrolled": false
   },
   "outputs": [
    {
     "data": {
      "text/plain": [
       "array(['KS', 'OH', 'NJ', ..., 'RI', 'CT', 'TN'], dtype=object)"
      ]
     },
     "execution_count": 9,
     "metadata": {},
     "output_type": "execute_result"
    }
   ],
   "source": [
    "# The 'state' column can be inversed to its original form later on if needed, as shown below\n",
    "le.inverse_transform(df['state'])"
   ]
  },
  {
   "cell_type": "markdown",
   "metadata": {},
   "source": [
    "`voice mail plan` and `international plan` are in \"yes\" / \"no\" format. We'll change these columns to binary form as well, with 0 representing no and 1 representing yes."
   ]
  },
  {
   "cell_type": "code",
   "execution_count": 10,
   "metadata": {},
   "outputs": [
    {
     "data": {
      "text/plain": [
       "no     2411\n",
       "yes     922\n",
       "Name: voice mail plan, dtype: int64"
      ]
     },
     "execution_count": 10,
     "metadata": {},
     "output_type": "execute_result"
    }
   ],
   "source": [
    "# Inspect unique values in 'voice mail plan'\n",
    "df['voice mail plan'].value_counts()"
   ]
  },
  {
   "cell_type": "code",
   "execution_count": 11,
   "metadata": {},
   "outputs": [
    {
     "data": {
      "text/plain": [
       "no     3010\n",
       "yes     323\n",
       "Name: international plan, dtype: int64"
      ]
     },
     "execution_count": 11,
     "metadata": {},
     "output_type": "execute_result"
    }
   ],
   "source": [
    "# Inspect unique values in 'international plan'\n",
    "df['international plan'].value_counts()"
   ]
  },
  {
   "cell_type": "code",
   "execution_count": 12,
   "metadata": {},
   "outputs": [],
   "source": [
    "# 'voice mail plan' and 'international plan' have values of 'yes' and 'no'\n",
    "# Map the data in these columns so that no: 0 and yes: 1\n",
    "df['voice mail plan'] = df['voice mail plan'].apply(lambda x: 0 if x=='no' else 1)\n",
    "df['international plan'] = df['international plan'].apply(lambda x: 0 if x=='no' else 1)"
   ]
  },
  {
   "cell_type": "markdown",
   "metadata": {},
   "source": [
    "Now that we've addressed the differences in data types, we'll make some final column drops. Previously, we dropped `total day minutes`, `total eve minutes`, `total night minutes`, and `total intl minutes` due to multicollinearity. We'll drop `phone number`, since this attribute shouldn't have any impact on churn."
   ]
  },
  {
   "cell_type": "code",
   "execution_count": 13,
   "metadata": {},
   "outputs": [],
   "source": [
    "# Logically speaking, a person's phone number should have no impact on whether they churn or not\n",
    "# Drop the 'phone number' column from the dataframe\n",
    "df = df.drop('phone number', axis=1)"
   ]
  },
  {
   "cell_type": "markdown",
   "metadata": {},
   "source": [
    "To get a sense of what the dataframe looks like now, we'll display an updated version below."
   ]
  },
  {
   "cell_type": "code",
   "execution_count": 14,
   "metadata": {},
   "outputs": [
    {
     "data": {
      "text/html": [
       "<div>\n",
       "<style scoped>\n",
       "    .dataframe tbody tr th:only-of-type {\n",
       "        vertical-align: middle;\n",
       "    }\n",
       "\n",
       "    .dataframe tbody tr th {\n",
       "        vertical-align: top;\n",
       "    }\n",
       "\n",
       "    .dataframe thead th {\n",
       "        text-align: right;\n",
       "    }\n",
       "</style>\n",
       "<table border=\"1\" class=\"dataframe\">\n",
       "  <thead>\n",
       "    <tr style=\"text-align: right;\">\n",
       "      <th></th>\n",
       "      <th>state</th>\n",
       "      <th>account length</th>\n",
       "      <th>area code</th>\n",
       "      <th>international plan</th>\n",
       "      <th>voice mail plan</th>\n",
       "      <th>number vmail messages</th>\n",
       "      <th>total day calls</th>\n",
       "      <th>total day charge</th>\n",
       "      <th>total eve calls</th>\n",
       "      <th>total eve charge</th>\n",
       "      <th>total night calls</th>\n",
       "      <th>total night charge</th>\n",
       "      <th>total intl calls</th>\n",
       "      <th>total intl charge</th>\n",
       "      <th>customer service calls</th>\n",
       "      <th>churn</th>\n",
       "    </tr>\n",
       "  </thead>\n",
       "  <tbody>\n",
       "    <tr>\n",
       "      <th>0</th>\n",
       "      <td>16</td>\n",
       "      <td>128</td>\n",
       "      <td>415</td>\n",
       "      <td>0</td>\n",
       "      <td>1</td>\n",
       "      <td>25</td>\n",
       "      <td>110</td>\n",
       "      <td>45.07</td>\n",
       "      <td>99</td>\n",
       "      <td>16.78</td>\n",
       "      <td>91</td>\n",
       "      <td>11.01</td>\n",
       "      <td>3</td>\n",
       "      <td>2.70</td>\n",
       "      <td>1</td>\n",
       "      <td>0</td>\n",
       "    </tr>\n",
       "    <tr>\n",
       "      <th>1</th>\n",
       "      <td>35</td>\n",
       "      <td>107</td>\n",
       "      <td>415</td>\n",
       "      <td>0</td>\n",
       "      <td>1</td>\n",
       "      <td>26</td>\n",
       "      <td>123</td>\n",
       "      <td>27.47</td>\n",
       "      <td>103</td>\n",
       "      <td>16.62</td>\n",
       "      <td>103</td>\n",
       "      <td>11.45</td>\n",
       "      <td>3</td>\n",
       "      <td>3.70</td>\n",
       "      <td>1</td>\n",
       "      <td>0</td>\n",
       "    </tr>\n",
       "    <tr>\n",
       "      <th>2</th>\n",
       "      <td>31</td>\n",
       "      <td>137</td>\n",
       "      <td>415</td>\n",
       "      <td>0</td>\n",
       "      <td>0</td>\n",
       "      <td>0</td>\n",
       "      <td>114</td>\n",
       "      <td>41.38</td>\n",
       "      <td>110</td>\n",
       "      <td>10.30</td>\n",
       "      <td>104</td>\n",
       "      <td>7.32</td>\n",
       "      <td>5</td>\n",
       "      <td>3.29</td>\n",
       "      <td>0</td>\n",
       "      <td>0</td>\n",
       "    </tr>\n",
       "    <tr>\n",
       "      <th>3</th>\n",
       "      <td>35</td>\n",
       "      <td>84</td>\n",
       "      <td>408</td>\n",
       "      <td>1</td>\n",
       "      <td>0</td>\n",
       "      <td>0</td>\n",
       "      <td>71</td>\n",
       "      <td>50.90</td>\n",
       "      <td>88</td>\n",
       "      <td>5.26</td>\n",
       "      <td>89</td>\n",
       "      <td>8.86</td>\n",
       "      <td>7</td>\n",
       "      <td>1.78</td>\n",
       "      <td>2</td>\n",
       "      <td>0</td>\n",
       "    </tr>\n",
       "    <tr>\n",
       "      <th>4</th>\n",
       "      <td>36</td>\n",
       "      <td>75</td>\n",
       "      <td>415</td>\n",
       "      <td>1</td>\n",
       "      <td>0</td>\n",
       "      <td>0</td>\n",
       "      <td>113</td>\n",
       "      <td>28.34</td>\n",
       "      <td>122</td>\n",
       "      <td>12.61</td>\n",
       "      <td>121</td>\n",
       "      <td>8.41</td>\n",
       "      <td>3</td>\n",
       "      <td>2.73</td>\n",
       "      <td>3</td>\n",
       "      <td>0</td>\n",
       "    </tr>\n",
       "    <tr>\n",
       "      <th>...</th>\n",
       "      <td>...</td>\n",
       "      <td>...</td>\n",
       "      <td>...</td>\n",
       "      <td>...</td>\n",
       "      <td>...</td>\n",
       "      <td>...</td>\n",
       "      <td>...</td>\n",
       "      <td>...</td>\n",
       "      <td>...</td>\n",
       "      <td>...</td>\n",
       "      <td>...</td>\n",
       "      <td>...</td>\n",
       "      <td>...</td>\n",
       "      <td>...</td>\n",
       "      <td>...</td>\n",
       "      <td>...</td>\n",
       "    </tr>\n",
       "    <tr>\n",
       "      <th>3328</th>\n",
       "      <td>3</td>\n",
       "      <td>192</td>\n",
       "      <td>415</td>\n",
       "      <td>0</td>\n",
       "      <td>1</td>\n",
       "      <td>36</td>\n",
       "      <td>77</td>\n",
       "      <td>26.55</td>\n",
       "      <td>126</td>\n",
       "      <td>18.32</td>\n",
       "      <td>83</td>\n",
       "      <td>12.56</td>\n",
       "      <td>6</td>\n",
       "      <td>2.67</td>\n",
       "      <td>2</td>\n",
       "      <td>0</td>\n",
       "    </tr>\n",
       "    <tr>\n",
       "      <th>3329</th>\n",
       "      <td>49</td>\n",
       "      <td>68</td>\n",
       "      <td>415</td>\n",
       "      <td>0</td>\n",
       "      <td>0</td>\n",
       "      <td>0</td>\n",
       "      <td>57</td>\n",
       "      <td>39.29</td>\n",
       "      <td>55</td>\n",
       "      <td>13.04</td>\n",
       "      <td>123</td>\n",
       "      <td>8.61</td>\n",
       "      <td>4</td>\n",
       "      <td>2.59</td>\n",
       "      <td>3</td>\n",
       "      <td>0</td>\n",
       "    </tr>\n",
       "    <tr>\n",
       "      <th>3330</th>\n",
       "      <td>39</td>\n",
       "      <td>28</td>\n",
       "      <td>510</td>\n",
       "      <td>0</td>\n",
       "      <td>0</td>\n",
       "      <td>0</td>\n",
       "      <td>109</td>\n",
       "      <td>30.74</td>\n",
       "      <td>58</td>\n",
       "      <td>24.55</td>\n",
       "      <td>91</td>\n",
       "      <td>8.64</td>\n",
       "      <td>6</td>\n",
       "      <td>3.81</td>\n",
       "      <td>2</td>\n",
       "      <td>0</td>\n",
       "    </tr>\n",
       "    <tr>\n",
       "      <th>3331</th>\n",
       "      <td>6</td>\n",
       "      <td>184</td>\n",
       "      <td>510</td>\n",
       "      <td>1</td>\n",
       "      <td>0</td>\n",
       "      <td>0</td>\n",
       "      <td>105</td>\n",
       "      <td>36.35</td>\n",
       "      <td>84</td>\n",
       "      <td>13.57</td>\n",
       "      <td>137</td>\n",
       "      <td>6.26</td>\n",
       "      <td>10</td>\n",
       "      <td>1.35</td>\n",
       "      <td>2</td>\n",
       "      <td>0</td>\n",
       "    </tr>\n",
       "    <tr>\n",
       "      <th>3332</th>\n",
       "      <td>42</td>\n",
       "      <td>74</td>\n",
       "      <td>415</td>\n",
       "      <td>0</td>\n",
       "      <td>1</td>\n",
       "      <td>25</td>\n",
       "      <td>113</td>\n",
       "      <td>39.85</td>\n",
       "      <td>82</td>\n",
       "      <td>22.60</td>\n",
       "      <td>77</td>\n",
       "      <td>10.86</td>\n",
       "      <td>4</td>\n",
       "      <td>3.70</td>\n",
       "      <td>0</td>\n",
       "      <td>0</td>\n",
       "    </tr>\n",
       "  </tbody>\n",
       "</table>\n",
       "<p>3333 rows × 16 columns</p>\n",
       "</div>"
      ],
      "text/plain": [
       "      state  account length  area code  international plan  voice mail plan  \\\n",
       "0        16             128        415                   0                1   \n",
       "1        35             107        415                   0                1   \n",
       "2        31             137        415                   0                0   \n",
       "3        35              84        408                   1                0   \n",
       "4        36              75        415                   1                0   \n",
       "...     ...             ...        ...                 ...              ...   \n",
       "3328      3             192        415                   0                1   \n",
       "3329     49              68        415                   0                0   \n",
       "3330     39              28        510                   0                0   \n",
       "3331      6             184        510                   1                0   \n",
       "3332     42              74        415                   0                1   \n",
       "\n",
       "      number vmail messages  total day calls  total day charge  \\\n",
       "0                        25              110             45.07   \n",
       "1                        26              123             27.47   \n",
       "2                         0              114             41.38   \n",
       "3                         0               71             50.90   \n",
       "4                         0              113             28.34   \n",
       "...                     ...              ...               ...   \n",
       "3328                     36               77             26.55   \n",
       "3329                      0               57             39.29   \n",
       "3330                      0              109             30.74   \n",
       "3331                      0              105             36.35   \n",
       "3332                     25              113             39.85   \n",
       "\n",
       "      total eve calls  total eve charge  total night calls  \\\n",
       "0                  99             16.78                 91   \n",
       "1                 103             16.62                103   \n",
       "2                 110             10.30                104   \n",
       "3                  88              5.26                 89   \n",
       "4                 122             12.61                121   \n",
       "...               ...               ...                ...   \n",
       "3328              126             18.32                 83   \n",
       "3329               55             13.04                123   \n",
       "3330               58             24.55                 91   \n",
       "3331               84             13.57                137   \n",
       "3332               82             22.60                 77   \n",
       "\n",
       "      total night charge  total intl calls  total intl charge  \\\n",
       "0                  11.01                 3               2.70   \n",
       "1                  11.45                 3               3.70   \n",
       "2                   7.32                 5               3.29   \n",
       "3                   8.86                 7               1.78   \n",
       "4                   8.41                 3               2.73   \n",
       "...                  ...               ...                ...   \n",
       "3328               12.56                 6               2.67   \n",
       "3329                8.61                 4               2.59   \n",
       "3330                8.64                 6               3.81   \n",
       "3331                6.26                10               1.35   \n",
       "3332               10.86                 4               3.70   \n",
       "\n",
       "      customer service calls  churn  \n",
       "0                          1      0  \n",
       "1                          1      0  \n",
       "2                          0      0  \n",
       "3                          2      0  \n",
       "4                          3      0  \n",
       "...                      ...    ...  \n",
       "3328                       2      0  \n",
       "3329                       3      0  \n",
       "3330                       2      0  \n",
       "3331                       2      0  \n",
       "3332                       0      0  \n",
       "\n",
       "[3333 rows x 16 columns]"
      ]
     },
     "execution_count": 14,
     "metadata": {},
     "output_type": "execute_result"
    }
   ],
   "source": [
    "# Display the current dataframe\n",
    "df"
   ]
  },
  {
   "cell_type": "markdown",
   "metadata": {},
   "source": [
    "Now we're left with 16 columns and 3333 rows. Using the remaining, transformed columns, we will inspect how the data is distributed for each column."
   ]
  },
  {
   "cell_type": "code",
   "execution_count": 15,
   "metadata": {},
   "outputs": [
    {
     "data": {
      "text/plain": [
       "array([[<AxesSubplot:title={'center':'state'}>,\n",
       "        <AxesSubplot:title={'center':'account length'}>,\n",
       "        <AxesSubplot:title={'center':'area code'}>,\n",
       "        <AxesSubplot:title={'center':'international plan'}>],\n",
       "       [<AxesSubplot:title={'center':'voice mail plan'}>,\n",
       "        <AxesSubplot:title={'center':'number vmail messages'}>,\n",
       "        <AxesSubplot:title={'center':'total day calls'}>,\n",
       "        <AxesSubplot:title={'center':'total day charge'}>],\n",
       "       [<AxesSubplot:title={'center':'total eve calls'}>,\n",
       "        <AxesSubplot:title={'center':'total eve charge'}>,\n",
       "        <AxesSubplot:title={'center':'total night calls'}>,\n",
       "        <AxesSubplot:title={'center':'total night charge'}>],\n",
       "       [<AxesSubplot:title={'center':'total intl calls'}>,\n",
       "        <AxesSubplot:title={'center':'total intl charge'}>,\n",
       "        <AxesSubplot:title={'center':'customer service calls'}>,\n",
       "        <AxesSubplot:title={'center':'churn'}>]], dtype=object)"
      ]
     },
     "execution_count": 15,
     "metadata": {},
     "output_type": "execute_result"
    },
    {
     "data": {
      "image/png": "[encoded data removed]",
      "text/plain": [
       "<Figure size 1080x1080 with 16 Axes>"
      ]
     },
     "metadata": {
      "needs_background": "light"
     },
     "output_type": "display_data"
    }
   ],
   "source": [
    "# Preview the data distribution of the remaining columns\n",
    "df.hist(figsize=(15,15))"
   ]
  },
  {
   "cell_type": "markdown",
   "metadata": {},
   "source": [
    "Most of the values for each column appear to be normally distributed, with the exception of a few columns. Note that our target variable `churn` appears to have an imbalance, which will be addressed later on in our model."
   ]
  },
  {
   "cell_type": "markdown",
   "metadata": {},
   "source": [
    "To supplement our plot of distributions for each column, we can print out the descriptive statistics for each attribute. "
   ]
  },
  {
   "cell_type": "code",
   "execution_count": 16,
   "metadata": {},
   "outputs": [
    {
     "data": {
      "text/html": [
       "<div>\n",
       "<style scoped>\n",
       "    .dataframe tbody tr th:only-of-type {\n",
       "        vertical-align: middle;\n",
       "    }\n",
       "\n",
       "    .dataframe tbody tr th {\n",
       "        vertical-align: top;\n",
       "    }\n",
       "\n",
       "    .dataframe thead th {\n",
       "        text-align: right;\n",
       "    }\n",
       "</style>\n",
       "<table border=\"1\" class=\"dataframe\">\n",
       "  <thead>\n",
       "    <tr style=\"text-align: right;\">\n",
       "      <th></th>\n",
       "      <th>state</th>\n",
       "      <th>account length</th>\n",
       "      <th>area code</th>\n",
       "      <th>international plan</th>\n",
       "      <th>voice mail plan</th>\n",
       "      <th>number vmail messages</th>\n",
       "      <th>total day calls</th>\n",
       "      <th>total day charge</th>\n",
       "      <th>total eve calls</th>\n",
       "      <th>total eve charge</th>\n",
       "      <th>total night calls</th>\n",
       "      <th>total night charge</th>\n",
       "      <th>total intl calls</th>\n",
       "      <th>total intl charge</th>\n",
       "      <th>customer service calls</th>\n",
       "      <th>churn</th>\n",
       "    </tr>\n",
       "  </thead>\n",
       "  <tbody>\n",
       "    <tr>\n",
       "      <th>count</th>\n",
       "      <td>3333.000000</td>\n",
       "      <td>3333.000000</td>\n",
       "      <td>3333.000000</td>\n",
       "      <td>3333.000000</td>\n",
       "      <td>3333.000000</td>\n",
       "      <td>3333.000000</td>\n",
       "      <td>3333.000000</td>\n",
       "      <td>3333.000000</td>\n",
       "      <td>3333.000000</td>\n",
       "      <td>3333.000000</td>\n",
       "      <td>3333.000000</td>\n",
       "      <td>3333.000000</td>\n",
       "      <td>3333.000000</td>\n",
       "      <td>3333.000000</td>\n",
       "      <td>3333.000000</td>\n",
       "      <td>3333.000000</td>\n",
       "    </tr>\n",
       "    <tr>\n",
       "      <th>mean</th>\n",
       "      <td>26.059406</td>\n",
       "      <td>101.064806</td>\n",
       "      <td>437.182418</td>\n",
       "      <td>0.096910</td>\n",
       "      <td>0.276628</td>\n",
       "      <td>8.099010</td>\n",
       "      <td>100.435644</td>\n",
       "      <td>30.562307</td>\n",
       "      <td>100.114311</td>\n",
       "      <td>17.083540</td>\n",
       "      <td>100.107711</td>\n",
       "      <td>9.039325</td>\n",
       "      <td>4.479448</td>\n",
       "      <td>2.764581</td>\n",
       "      <td>1.562856</td>\n",
       "      <td>0.144914</td>\n",
       "    </tr>\n",
       "    <tr>\n",
       "      <th>std</th>\n",
       "      <td>14.824911</td>\n",
       "      <td>39.822106</td>\n",
       "      <td>42.371290</td>\n",
       "      <td>0.295879</td>\n",
       "      <td>0.447398</td>\n",
       "      <td>13.688365</td>\n",
       "      <td>20.069084</td>\n",
       "      <td>9.259435</td>\n",
       "      <td>19.922625</td>\n",
       "      <td>4.310668</td>\n",
       "      <td>19.568609</td>\n",
       "      <td>2.275873</td>\n",
       "      <td>2.461214</td>\n",
       "      <td>0.753773</td>\n",
       "      <td>1.315491</td>\n",
       "      <td>0.352067</td>\n",
       "    </tr>\n",
       "    <tr>\n",
       "      <th>min</th>\n",
       "      <td>0.000000</td>\n",
       "      <td>1.000000</td>\n",
       "      <td>408.000000</td>\n",
       "      <td>0.000000</td>\n",
       "      <td>0.000000</td>\n",
       "      <td>0.000000</td>\n",
       "      <td>0.000000</td>\n",
       "      <td>0.000000</td>\n",
       "      <td>0.000000</td>\n",
       "      <td>0.000000</td>\n",
       "      <td>33.000000</td>\n",
       "      <td>1.040000</td>\n",
       "      <td>0.000000</td>\n",
       "      <td>0.000000</td>\n",
       "      <td>0.000000</td>\n",
       "      <td>0.000000</td>\n",
       "    </tr>\n",
       "    <tr>\n",
       "      <th>25%</th>\n",
       "      <td>14.000000</td>\n",
       "      <td>74.000000</td>\n",
       "      <td>408.000000</td>\n",
       "      <td>0.000000</td>\n",
       "      <td>0.000000</td>\n",
       "      <td>0.000000</td>\n",
       "      <td>87.000000</td>\n",
       "      <td>24.430000</td>\n",
       "      <td>87.000000</td>\n",
       "      <td>14.160000</td>\n",
       "      <td>87.000000</td>\n",
       "      <td>7.520000</td>\n",
       "      <td>3.000000</td>\n",
       "      <td>2.300000</td>\n",
       "      <td>1.000000</td>\n",
       "      <td>0.000000</td>\n",
       "    </tr>\n",
       "    <tr>\n",
       "      <th>50%</th>\n",
       "      <td>26.000000</td>\n",
       "      <td>101.000000</td>\n",
       "      <td>415.000000</td>\n",
       "      <td>0.000000</td>\n",
       "      <td>0.000000</td>\n",
       "      <td>0.000000</td>\n",
       "      <td>101.000000</td>\n",
       "      <td>30.500000</td>\n",
       "      <td>100.000000</td>\n",
       "      <td>17.120000</td>\n",
       "      <td>100.000000</td>\n",
       "      <td>9.050000</td>\n",
       "      <td>4.000000</td>\n",
       "      <td>2.780000</td>\n",
       "      <td>1.000000</td>\n",
       "      <td>0.000000</td>\n",
       "    </tr>\n",
       "    <tr>\n",
       "      <th>75%</th>\n",
       "      <td>39.000000</td>\n",
       "      <td>127.000000</td>\n",
       "      <td>510.000000</td>\n",
       "      <td>0.000000</td>\n",
       "      <td>1.000000</td>\n",
       "      <td>20.000000</td>\n",
       "      <td>114.000000</td>\n",
       "      <td>36.790000</td>\n",
       "      <td>114.000000</td>\n",
       "      <td>20.000000</td>\n",
       "      <td>113.000000</td>\n",
       "      <td>10.590000</td>\n",
       "      <td>6.000000</td>\n",
       "      <td>3.270000</td>\n",
       "      <td>2.000000</td>\n",
       "      <td>0.000000</td>\n",
       "    </tr>\n",
       "    <tr>\n",
       "      <th>max</th>\n",
       "      <td>50.000000</td>\n",
       "      <td>243.000000</td>\n",
       "      <td>510.000000</td>\n",
       "      <td>1.000000</td>\n",
       "      <td>1.000000</td>\n",
       "      <td>51.000000</td>\n",
       "      <td>165.000000</td>\n",
       "      <td>59.640000</td>\n",
       "      <td>170.000000</td>\n",
       "      <td>30.910000</td>\n",
       "      <td>175.000000</td>\n",
       "      <td>17.770000</td>\n",
       "      <td>20.000000</td>\n",
       "      <td>5.400000</td>\n",
       "      <td>9.000000</td>\n",
       "      <td>1.000000</td>\n",
       "    </tr>\n",
       "  </tbody>\n",
       "</table>\n",
       "</div>"
      ],
      "text/plain": [
       "             state  account length    area code  international plan  \\\n",
       "count  3333.000000     3333.000000  3333.000000         3333.000000   \n",
       "mean     26.059406      101.064806   437.182418            0.096910   \n",
       "std      14.824911       39.822106    42.371290            0.295879   \n",
       "min       0.000000        1.000000   408.000000            0.000000   \n",
       "25%      14.000000       74.000000   408.000000            0.000000   \n",
       "50%      26.000000      101.000000   415.000000            0.000000   \n",
       "75%      39.000000      127.000000   510.000000            0.000000   \n",
       "max      50.000000      243.000000   510.000000            1.000000   \n",
       "\n",
       "       voice mail plan  number vmail messages  total day calls  \\\n",
       "count      3333.000000            3333.000000      3333.000000   \n",
       "mean          0.276628               8.099010       100.435644   \n",
       "std           0.447398              13.688365        20.069084   \n",
       "min           0.000000               0.000000         0.000000   \n",
       "25%           0.000000               0.000000        87.000000   \n",
       "50%           0.000000               0.000000       101.000000   \n",
       "75%           1.000000              20.000000       114.000000   \n",
       "max           1.000000              51.000000       165.000000   \n",
       "\n",
       "       total day charge  total eve calls  total eve charge  total night calls  \\\n",
       "count       3333.000000      3333.000000       3333.000000        3333.000000   \n",
       "mean          30.562307       100.114311         17.083540         100.107711   \n",
       "std            9.259435        19.922625          4.310668          19.568609   \n",
       "min            0.000000         0.000000          0.000000          33.000000   \n",
       "25%           24.430000        87.000000         14.160000          87.000000   \n",
       "50%           30.500000       100.000000         17.120000         100.000000   \n",
       "75%           36.790000       114.000000         20.000000         113.000000   \n",
       "max           59.640000       170.000000         30.910000         175.000000   \n",
       "\n",
       "       total night charge  total intl calls  total intl charge  \\\n",
       "count         3333.000000       3333.000000        3333.000000   \n",
       "mean             9.039325          4.479448           2.764581   \n",
       "std              2.275873          2.461214           0.753773   \n",
       "min              1.040000          0.000000           0.000000   \n",
       "25%              7.520000          3.000000           2.300000   \n",
       "50%              9.050000          4.000000           2.780000   \n",
       "75%             10.590000          6.000000           3.270000   \n",
       "max             17.770000         20.000000           5.400000   \n",
       "\n",
       "       customer service calls        churn  \n",
       "count             3333.000000  3333.000000  \n",
       "mean                 1.562856     0.144914  \n",
       "std                  1.315491     0.352067  \n",
       "min                  0.000000     0.000000  \n",
       "25%                  1.000000     0.000000  \n",
       "50%                  1.000000     0.000000  \n",
       "75%                  2.000000     0.000000  \n",
       "max                  9.000000     1.000000  "
      ]
     },
     "execution_count": 16,
     "metadata": {},
     "output_type": "execute_result"
    }
   ],
   "source": [
    "# Preview the descriptive statistics of the remaining columns\n",
    "df.describe()"
   ]
  },
  {
   "cell_type": "markdown",
   "metadata": {},
   "source": [
    "The table above summarizes the central tendency, dispersion, and overall shape of our dataset's distribution. This will be helpful in our recommendation stage, once we identify the most influential factors for churn."
   ]
  },
  {
   "cell_type": "markdown",
   "metadata": {},
   "source": [
    "As previously mentioned, our target variable appears to have an imbalance. To get an idea of the current proportions, we'll calculate how many rows represent no churn versus churn."
   ]
  },
  {
   "cell_type": "code",
   "execution_count": 17,
   "metadata": {},
   "outputs": [
    {
     "name": "stdout",
     "output_type": "stream",
     "text": [
      "0    2850\n",
      "1     483\n",
      "Name: churn, dtype: int64\n",
      "\n",
      "\n",
      "Current churn rate: 14.49 %\n"
     ]
    }
   ],
   "source": [
    "# Print out the value counts of 'churn' to get an idea of the current class proportions\n",
    "print(df['churn'].value_counts())\n",
    "print('\\n')\n",
    "print('Current churn rate:', round((df['churn'].value_counts()[1]/len(df))*100,2),'%')"
   ]
  },
  {
   "cell_type": "markdown",
   "metadata": {},
   "source": [
    "There's a significant class imbalance with the current dataset, considering that only 14.49% of the data is for customers with churn. We will run a logistic regression model as usual before adjusting for the class imbalance."
   ]
  },
  {
   "cell_type": "markdown",
   "metadata": {},
   "source": [
    "## Logistic Regression Model"
   ]
  },
  {
   "cell_type": "markdown",
   "metadata": {},
   "source": [
    "In the following cells, we pass the data through a `train_test_split` and create a baseline logistic regression model to assess performance. We adjust the data for any errors as we go."
   ]
  },
  {
   "cell_type": "code",
   "execution_count": 18,
   "metadata": {},
   "outputs": [],
   "source": [
    "# Import relevant function(s)\n",
    "from sklearn.model_selection import train_test_split\n",
    "\n",
    "# Split the dataframe into X and y\n",
    "X = df.drop('churn', axis=1)\n",
    "y = df['churn']\n",
    "\n",
    "# Perform a train-test-split with random_state set to 42 and stratify set to y\n",
    "X_train, X_test, y_train, y_test = train_test_split(X, y, random_state=42, stratify=y)"
   ]
  },
  {
   "cell_type": "markdown",
   "metadata": {},
   "source": [
    "We passed the argument `stratify=y` to the `train_test_split` so there are roughly equal percentages of no churn versus churn data for the testing and training data. We can confirm the results below."
   ]
  },
  {
   "cell_type": "code",
   "execution_count": 19,
   "metadata": {},
   "outputs": [
    {
     "name": "stdout",
     "output_type": "stream",
     "text": [
      "Training set value counts\n",
      "0    0.855142\n",
      "1    0.144858\n",
      "Name: churn, dtype: float64\n",
      "\n",
      "\n",
      "Testing set value counts\n",
      "0    0.854916\n",
      "1    0.145084\n",
      "Name: churn, dtype: float64\n"
     ]
    }
   ],
   "source": [
    "# Check that there are roughly equal percentages of no churn and churn data for the testing and training sets\n",
    "print('Training set value counts')\n",
    "print(y_train.value_counts(normalize=True))\n",
    "print('\\n')\n",
    "print('Testing set value counts')\n",
    "print(y_test.value_counts(normalize=True))"
   ]
  },
  {
   "cell_type": "markdown",
   "metadata": {},
   "source": [
    "After passing the data through a `train_test_split`, we can instantiate a `LogisticRegression` model. In the cell below, we import all the relevant functions, create a baseline model with suppressed warnings, and evalute the baseline against accuracy, precision, recall, and F1."
   ]
  },
  {
   "cell_type": "code",
   "execution_count": 20,
   "metadata": {
    "scrolled": false
   },
   "outputs": [
    {
     "name": "stdout",
     "output_type": "stream",
     "text": [
      "Accuracy: 0.8551398797595191\n",
      "Precision: 0.4966633366633366\n",
      "Recall: 0.08554033485540333\n",
      "F1: 0.1456832922150185\n"
     ]
    }
   ],
   "source": [
    "# Import relevant function(s)\n",
    "from sklearn.linear_model import LogisticRegression\n",
    "from sklearn.model_selection import cross_val_score\n",
    "from sklearn.metrics import classification_report\n",
    "import warnings\n",
    "\n",
    "# Instantiate a LogisticRegression\n",
    "logreg = LogisticRegression(random_state=42)\n",
    "warnings.filterwarnings('ignore') # This line is added to remove the large convergence warning we would get\n",
    "\n",
    "# Evaluate the baseline logistic regression model based on accuracy using cross_val_score\n",
    "# We use the training data in this case\n",
    "print('Accuracy:', cross_val_score(logreg, X_train, y_train, scoring='accuracy').mean())\n",
    "print('Precision:', cross_val_score(logreg, X_train, y_train, scoring='precision').mean())\n",
    "print('Recall:', cross_val_score(logreg, X_train, y_train, scoring='recall').mean())\n",
    "print('F1:', cross_val_score(logreg, X_train, y_train, scoring='f1').mean())"
   ]
  },
  {
   "cell_type": "markdown",
   "metadata": {},
   "source": [
    "The baseline logistic regression model returns an accuracy of 0.855, which is quite good for a first run. However, there's a convergence warning, and the model performs poorly for every other metric. We disabled the display of the convergence warning for ease of readability. To address this issue, we need to change the hyperparameters and scale the data appropriately. In the following lines of code, we use standard scaler to scale the numbers and `SMOTE` to address the data imbalance that was identified earlier."
   ]
  },
  {
   "cell_type": "code",
   "execution_count": 21,
   "metadata": {},
   "outputs": [],
   "source": [
    "# Import relevant function(s)\n",
    "from imblearn.over_sampling import SMOTE\n",
    "\n",
    "# Instantiate SMOTE\n",
    "sm = SMOTE(random_state=42)\n",
    "\n",
    "# Resample the training data and convert to a dataframe\n",
    "X_train_sm, y_train_sm = sm.fit_resample(X_train, y_train)\n",
    "X_train_xm = pd.DataFrame(X_train_sm, columns = X_train.columns)"
   ]
  },
  {
   "cell_type": "markdown",
   "metadata": {},
   "source": [
    "The cell below confirms that we successfully resampled the training dataset."
   ]
  },
  {
   "cell_type": "code",
   "execution_count": 22,
   "metadata": {},
   "outputs": [
    {
     "data": {
      "text/plain": [
       "0    2137\n",
       "1    2137\n",
       "Name: churn, dtype: int64"
      ]
     },
     "execution_count": 22,
     "metadata": {},
     "output_type": "execute_result"
    }
   ],
   "source": [
    "# Check the value counts of y_train_sm to ensure that SMOTE worked as expected\n",
    "y_train_sm.value_counts()"
   ]
  },
  {
   "cell_type": "markdown",
   "metadata": {},
   "source": [
    "Once we resample with `SMOTE`, we can scale the numbers with `StandardScaler`. To reiterate, we had a convergence warning since the data was not standardized. Additionally, we observed during our data exploration stage that some of the columns are recorded with different scales."
   ]
  },
  {
   "cell_type": "code",
   "execution_count": 23,
   "metadata": {},
   "outputs": [
    {
     "name": "stdout",
     "output_type": "stream",
     "text": [
      "Accuracy: 0.7173603407425668\n",
      "Precision: 0.7103194532589077\n",
      "Recall: 0.7342193963536081\n",
      "F1: 0.7220523654041442\n"
     ]
    }
   ],
   "source": [
    "# Import relevant function(s)\n",
    "from sklearn.preprocessing import StandardScaler\n",
    "\n",
    "# Instantiate a StandardScaler\n",
    "scaler = StandardScaler()\n",
    "\n",
    "# Fit onto the resampled data X_train_sm and scale/transform\n",
    "scaler.fit(X_train_sm)\n",
    "X_train_sm_scaled = scaler.transform(X_train_sm)\n",
    "\n",
    "# Instantiate a logistic regression with increased 'max_iter'\n",
    "logreg_sm = LogisticRegression(max_iter = 1000, random_state = 42)\n",
    "\n",
    "# Evaluate the logistic regression and print the results\n",
    "logreg_sm_acc=cross_val_score(logreg_sm, X_train_sm_scaled, y_train_sm, scoring = 'accuracy').mean()\n",
    "logreg_sm_prec=cross_val_score(logreg_sm, X_train_sm_scaled, y_train_sm, scoring = 'precision').mean()\n",
    "logreg_sm_rec=cross_val_score(logreg_sm, X_train_sm_scaled, y_train_sm, scoring = 'recall').mean()\n",
    "logreg_sm_f1=cross_val_score(logreg_sm, X_train_sm_scaled, y_train_sm, scoring = 'f1').mean()\n",
    "\n",
    "print('Accuracy:', logreg_sm_acc)\n",
    "print('Precision:', logreg_sm_prec)\n",
    "print('Recall:', logreg_sm_rec)\n",
    "print('F1:', logreg_sm_f1)"
   ]
  },
  {
   "cell_type": "markdown",
   "metadata": {},
   "source": [
    "After resampling, increasing maximum iterations, and scaling the data, we no longer get a convergence warning from the logistic regression model. Despite our accuracy score decreasing slightly from 0.855 to 0.717, our precision, recall, and F1 scores have improved. To continue, we will build a baseline kNN model to see how it compares to the logistic regression."
   ]
  },
  {
   "cell_type": "markdown",
   "metadata": {},
   "source": [
    "## K-Nearest Neighbors (kNN) Model\n",
    "A baseline kNN model is created and tested for accuracy, as shown below. We start by scaling the data, similar to what we did when creating a logistic regression."
   ]
  },
  {
   "cell_type": "code",
   "execution_count": 24,
   "metadata": {},
   "outputs": [],
   "source": [
    "# Instantiate a StandardScaler\n",
    "scaler = StandardScaler()\n",
    "\n",
    "# Scale the datasets\n",
    "scaled_Xtrain = scaler.fit_transform(X_train)\n",
    "scaled_Xtest = scaler.transform(X_test)"
   ]
  },
  {
   "cell_type": "markdown",
   "metadata": {},
   "source": [
    "Now we can import the `KNeighborsClassifier` and instantiate a kNN. The model is fitted on the scaled training data and initially evaluated for accuracy."
   ]
  },
  {
   "cell_type": "code",
   "execution_count": 25,
   "metadata": {},
   "outputs": [
    {
     "data": {
      "text/plain": [
       "0.8823478957915831"
      ]
     },
     "execution_count": 25,
     "metadata": {},
     "output_type": "execute_result"
    }
   ],
   "source": [
    "# Import relevant function(s)\n",
    "from sklearn.neighbors import KNeighborsClassifier\n",
    "\n",
    "# Instantiate a KNeighborsClassifier\n",
    "clf = KNeighborsClassifier()\n",
    "\n",
    "# Build a baseline kNN model\n",
    "knn_baseline = clf.fit(scaled_Xtrain, y_train)\n",
    "\n",
    "# Evaluate the kNN baseline model with 'cross_val_score'\n",
    "knn_baseline_cv = cross_val_score(knn_baseline, scaled_Xtrain, y_train, scoring = 'accuracy').mean()\n",
    "knn_baseline_cv"
   ]
  },
  {
   "cell_type": "markdown",
   "metadata": {},
   "source": [
    "The baseline kNN model has a higher accuracy compared to the corrected baseline logistic regression model, improving from 0.717 to 0.882. To further test the kNN model under different scenarios, we will conduct an iterative modeling process to identify the best hyperparameters to include. The following lines of code create a loop to find the `n_neighbors` value that returns the highest accuracy."
   ]
  },
  {
   "cell_type": "code",
   "execution_count": 26,
   "metadata": {},
   "outputs": [
    {
     "data": {
      "text/plain": [
       "[(0.8823478957915831, 5),\n",
       " (0.869545490981964, 10),\n",
       " (0.8687446893787575, 15),\n",
       " (0.8615414829659318, 20),\n",
       " (0.8635406813627254, 25),\n",
       " (0.8603414829659318, 30),\n",
       " (0.8607414829659319, 35),\n",
       " (0.8583414829659318, 40),\n",
       " (0.8579414829659319, 45)]"
      ]
     },
     "execution_count": 26,
     "metadata": {},
     "output_type": "execute_result"
    }
   ],
   "source": [
    "# Import relevant function(s)\n",
    "import numpy as np\n",
    "\n",
    "# Create an empty list to store the accuracy scores\n",
    "acc_scores=[]\n",
    "\n",
    "# Create a 'for' loop as part of an iterative process to find the best 'n_neighbor' value\n",
    "for num in np.arange(5,50,5):\n",
    "    clf = KNeighborsClassifier(n_neighbors=num)\n",
    "    clf.fit(scaled_Xtrain, y_train)\n",
    "    knn_acc = cross_val_score(clf, scaled_Xtrain, y_train, scoring='accuracy').mean()\n",
    "    acc_scores.append((knn_acc, num))\n",
    "acc_scores"
   ]
  },
  {
   "cell_type": "markdown",
   "metadata": {},
   "source": [
    "The cell above returns a list of accuracy scores for each value of `n_neighbors`. Using the `max()` function, we'll print out the highest score recorded and its `n_neighbors` value."
   ]
  },
  {
   "cell_type": "code",
   "execution_count": 27,
   "metadata": {},
   "outputs": [
    {
     "name": "stdout",
     "output_type": "stream",
     "text": [
      "highest accuracy score and corresponding n_neighbor:\n"
     ]
    },
    {
     "data": {
      "text/plain": [
       "(0.8823478957915831, 5)"
      ]
     },
     "execution_count": 27,
     "metadata": {},
     "output_type": "execute_result"
    }
   ],
   "source": [
    "# Print the highest accuracy score recorded and the corresponding 'n_neighbor'\n",
    "print('highest accuracy score and corresponding n_neighbor:')\n",
    "max(acc_scores)"
   ]
  },
  {
   "cell_type": "markdown",
   "metadata": {},
   "source": [
    "Now we know that `n_neighbors=5` results in the best accuracy score. We will repeat the process above with this value of `n_neighbors` and print out the evaluation metrics."
   ]
  },
  {
   "cell_type": "code",
   "execution_count": 28,
   "metadata": {},
   "outputs": [
    {
     "name": "stdout",
     "output_type": "stream",
     "text": [
      "Accuracy: 0.88\n",
      "Precision: 0.7\n",
      "Recall: 0.33\n",
      "F1: 0.45\n"
     ]
    }
   ],
   "source": [
    "# Import relevant function(s)\n",
    "from sklearn.metrics import accuracy_score, precision_score, recall_score, f1_score\n",
    "\n",
    "# Instantiate another KNeighborsClassifier with n_neighbors=5,\n",
    "# since n_neighbors=5 resulted in the highest accuracy as shown from the previous run\n",
    "kNN_2 = KNeighborsClassifier(n_neighbors = 5)\n",
    "kNN_2.fit(scaled_Xtrain, y_train)\n",
    "y_pred = kNN_2.predict(scaled_Xtest)\n",
    "\n",
    "# Print out evaluation metrics\n",
    "print('Accuracy:', round(accuracy_score(y_test, y_pred),2))\n",
    "print('Precision:', round(precision_score(y_test, y_pred),2))\n",
    "print('Recall:', round(recall_score(y_test, y_pred),2))\n",
    "print('F1:', round(f1_score(y_test, y_pred),2))"
   ]
  },
  {
   "cell_type": "markdown",
   "metadata": {},
   "source": [
    "The scores for recall and F1 are significantly lower than the accuracy score. Given this business case, it would be worse to have more false negatives (customers who actually churn but are predicted to not churn) than false positives (customers who actually do not churn but are predicted to churn). Considering that we want to minimize false negatives, we will see if we can improve the recall score. To do this, we will use `GridSearchCV` to find the combination of several hyperparameters, not just `n_neighbors`, that results in the best possible model. It's important to note that there's a tradeoff between recall and precision, so increasing one will reduce the other."
   ]
  },
  {
   "cell_type": "code",
   "execution_count": 29,
   "metadata": {},
   "outputs": [
    {
     "name": "stdout",
     "output_type": "stream",
     "text": [
      "Optimal combination: {'algorithm': 'auto', 'leaf_size': 30, 'n_neighbors': 3, 'weights': 'uniform'}\n"
     ]
    }
   ],
   "source": [
    "# Import relevant function(s)\n",
    "from sklearn.model_selection import GridSearchCV\n",
    "\n",
    "# Instantiate a KNeighborsClassifier\n",
    "kNN = KNeighborsClassifier()\n",
    "\n",
    "# Define the grid parameter for GridSearchCV\n",
    "grid = {'n_neighbors': np.arange(1, 50, 2),\n",
    "         'weights': ['uniform', 'distance'],\n",
    "         'algorithm': ['auto', 'ball_tree', 'kd_tree', 'brute'],\n",
    "         'leaf_size': np.arange(30,50,2)}\n",
    "\n",
    "# Define the gridsearch for the kNN model\n",
    "kNN_gridsearch = GridSearchCV(kNN, grid, cv=5, scoring='accuracy')\n",
    "kNN_gridsearch.fit(scaled_Xtrain, y_train)\n",
    "\n",
    "# Print the best combination that results in the highest accuracy score\n",
    "print(\"Optimal combination:\", kNN_gridsearch.best_params_)"
   ]
  },
  {
   "cell_type": "markdown",
   "metadata": {},
   "source": [
    "Using `best_params_`, we can get the ideal combination of hyperparameters that the model looped through with `GridSearchCV`. Now, we can define a `kNN_best` and evaluate its performance with a classification report."
   ]
  },
  {
   "cell_type": "code",
   "execution_count": 30,
   "metadata": {},
   "outputs": [
    {
     "name": "stdout",
     "output_type": "stream",
     "text": [
      "Accuracy: 0.88\n",
      "Precision: 0.64\n",
      "Recall: 0.32\n",
      "F1: 0.43\n",
      "              precision    recall  f1-score   support\n",
      "\n",
      "    no churn       0.89      0.97      0.93       713\n",
      "       churn       0.64      0.32      0.43       121\n",
      "\n",
      "    accuracy                           0.88       834\n",
      "   macro avg       0.77      0.65      0.68       834\n",
      "weighted avg       0.86      0.88      0.86       834\n",
      "\n"
     ]
    }
   ],
   "source": [
    "# Define 'kNN_best' using the best parameters returned\n",
    "kNN_best = KNeighborsClassifier(algorithm = 'auto', leaf_size = 30, n_neighbors = 3, weights = 'uniform')\n",
    "kNN_best.fit(scaled_Xtrain, y_train)\n",
    "\n",
    "# Define predicted values using the testing set\n",
    "y_pred = kNN_best.predict(scaled_Xtest)\n",
    "\n",
    "# Evaluate the kNN and print the results\n",
    "kNN_acc = round(accuracy_score(y_test, y_pred),2)\n",
    "kNN_prec = round(precision_score(y_test, y_pred),2)\n",
    "kNN_rec = round(recall_score(y_test, y_pred),2)\n",
    "kNN_f1 = round(f1_score(y_test, y_pred),2)\n",
    "\n",
    "print('Accuracy:', kNN_acc)\n",
    "print('Precision:', kNN_prec)\n",
    "print('Recall:', kNN_rec)\n",
    "print('F1:', kNN_f1)\n",
    "\n",
    "# Display the results in a classification report\n",
    "target_names = ['no churn', 'churn']\n",
    "print(classification_report(y_test, y_pred, target_names=target_names))"
   ]
  },
  {
   "cell_type": "markdown",
   "metadata": {},
   "source": [
    "In this run, the kNN model actually performs worse than the baseline, suggesting that we should try a different approach. We will repeat the iterative processes from before on a `DecisionTreeClassifier` and compare its performance to the kNN and logistic regression models."
   ]
  },
  {
   "cell_type": "markdown",
   "metadata": {},
   "source": [
    "## Decision Tree Model\n",
    "A baseline decision tree model is created and tested for accuracy, as shown below."
   ]
  },
  {
   "cell_type": "code",
   "execution_count": 54,
   "metadata": {},
   "outputs": [
    {
     "data": {
      "text/plain": [
       "0.9183679358717436"
      ]
     },
     "execution_count": 54,
     "metadata": {},
     "output_type": "execute_result"
    }
   ],
   "source": [
    "# Import relevant function(s)\n",
    "from sklearn.tree import DecisionTreeClassifier\n",
    "\n",
    "# Instantiate a DecisionTreeClassifier for the baseline model\n",
    "dt_baseline = DecisionTreeClassifier()\n",
    "dt_baseline.fit(X_train, y_train)\n",
    "\n",
    "# Return the accuracy of 'dt_baseline'\n",
    "cross_val_score(dt_baseline, X_train, y_train, scoring='accuracy').mean()"
   ]
  },
  {
   "cell_type": "markdown",
   "metadata": {},
   "source": [
    "The baseline model's accuracy of 0.918 indicates that the decision tree might produce the best result. To start looping through several iterations, we'll first adjust the `max_depth` values to see if we can get a higher accuracy and improved metrics."
   ]
  },
  {
   "cell_type": "code",
   "execution_count": 55,
   "metadata": {},
   "outputs": [
    {
     "data": {
      "text/plain": [
       "[(0.8639398797595191, 1),\n",
       " (0.8839551102204408, 2),\n",
       " (0.9051599198396794, 3),\n",
       " (0.9247679358717436, 4),\n",
       " (0.9415743486973949, 5),\n",
       " (0.9463775551102204, 6),\n",
       " (0.9443727454909819, 7),\n",
       " (0.945172745490982, 8),\n",
       " (0.9423727454909819, 9)]"
      ]
     },
     "execution_count": 55,
     "metadata": {},
     "output_type": "execute_result"
    }
   ],
   "source": [
    "# Create an empty list to store the accuracy scores for each loop and the corresponding 'max_depth' value\n",
    "dtree_scores=[]\n",
    "for depth in np.arange(1,10,1):\n",
    "    dt = DecisionTreeClassifier(random_state=42, max_depth = depth)\n",
    "    dt_acc = cross_val_score(dt, X_train, y_train, scoring='accuracy').mean()\n",
    "    dtree_scores.append((dt_acc, depth))\n",
    "dtree_scores"
   ]
  },
  {
   "cell_type": "markdown",
   "metadata": {},
   "source": [
    "Similar to the n_neighbors loop that we ran for the kNN model, we return several accuracy values corresponding to different `max_depth` values within a DecisionTreeClassifier. The cell below uses the `max()` function to print out the highest score and its `max_depth`."
   ]
  },
  {
   "cell_type": "code",
   "execution_count": 56,
   "metadata": {},
   "outputs": [
    {
     "name": "stdout",
     "output_type": "stream",
     "text": [
      "highest accuracy score and corresponding max_depth:\n"
     ]
    },
    {
     "data": {
      "text/plain": [
       "(0.9463775551102204, 6)"
      ]
     },
     "execution_count": 56,
     "metadata": {},
     "output_type": "execute_result"
    }
   ],
   "source": [
    "# Return the 'max_depth' value that results in the highest accuracy\n",
    "print('highest accuracy score and corresponding max_depth:')\n",
    "max(dtree_scores)"
   ]
  },
  {
   "cell_type": "markdown",
   "metadata": {},
   "source": [
    "Now we know that `max_depth=6` results in the best accuracy score. We will repeat the process above with this value of `max_depth` and print out the evaluation metrics."
   ]
  },
  {
   "cell_type": "code",
   "execution_count": 57,
   "metadata": {},
   "outputs": [
    {
     "name": "stdout",
     "output_type": "stream",
     "text": [
      "Accuracy: 0.93\n",
      "Precision: 0.81\n",
      "Recall: 0.64\n",
      "F1: 0.71\n"
     ]
    }
   ],
   "source": [
    "# Define another decision tree for the best accuracy with 'max_depth' set to 6\n",
    "dt_best_acc = DecisionTreeClassifier(random_state = 42, max_depth = 6)\n",
    "dt_best_acc.fit(X_train, y_train)\n",
    "y_pred = dt_best_acc.predict(X_test)\n",
    "\n",
    "# Print out the evaluation metrics for 'dt_best_acc'\n",
    "print('Accuracy:', round(accuracy_score(y_test, y_pred),2))\n",
    "print('Precision:', round(precision_score(y_test, y_pred),2))\n",
    "print('Recall:', round(recall_score(y_test, y_pred),2))\n",
    "print('F1:', round(f1_score(y_test, y_pred),2))"
   ]
  },
  {
   "cell_type": "markdown",
   "metadata": {},
   "source": [
    "On our first loop of the `DecisionTreeClassifier`, we can see that all the evaluation metrics have already increased. To confirm that that the hyperparameters we're using are ideal, we'll perform another `GridSearchCV` similar to the one done on the kNN model."
   ]
  },
  {
   "cell_type": "code",
   "execution_count": 58,
   "metadata": {
    "scrolled": true
   },
   "outputs": [
    {
     "name": "stdout",
     "output_type": "stream",
     "text": [
      "Optimal combination: {'criterion': 'gini', 'max_depth': 10, 'min_samples_leaf': 2, 'min_samples_split': 6}\n"
     ]
    }
   ],
   "source": [
    "# Import relevant function(s)\n",
    "from sklearn.model_selection import GridSearchCV\n",
    "\n",
    "# Instantiate another decision tree and define the grid for 'GridSearchCV'\n",
    "tree = DecisionTreeClassifier()\n",
    "grid = {'max_depth': np.arange(1, 21, 1),\n",
    "         'min_samples_split': np.arange(2, 11, 2),\n",
    "         'min_samples_leaf': np.arange(1, 6),\n",
    "         'criterion': ['gini', 'entropy']}\n",
    "\n",
    "# Define the gridsearch for the decision tree and fit it on the training set\n",
    "tree_gridsearch = GridSearchCV(tree, grid, cv=5, scoring='accuracy')\n",
    "tree_gridsearch.fit(X_train, y_train)\n",
    "\n",
    "# Print the combination that results in the highest accuracy score\n",
    "print(\"Optimal combination:\", tree_gridsearch.best_params_)"
   ]
  },
  {
   "cell_type": "markdown",
   "metadata": {},
   "source": [
    "Like before, we use `best_params_` to return the ideal combination of hyperparameters from what we tested for in `GridSearchCV`. We can print out the evaluation metrics in a classification report for this decision tree."
   ]
  },
  {
   "cell_type": "code",
   "execution_count": 59,
   "metadata": {},
   "outputs": [
    {
     "name": "stdout",
     "output_type": "stream",
     "text": [
      "Accuracy: 0.94\n",
      "Precision: 0.88\n",
      "Recall: 0.67\n",
      "F1: 0.76\n",
      "              precision    recall  f1-score   support\n",
      "\n",
      "    no churn       0.95      0.98      0.96       713\n",
      "       churn       0.88      0.67      0.76       121\n",
      "\n",
      "    accuracy                           0.94       834\n",
      "   macro avg       0.91      0.83      0.86       834\n",
      "weighted avg       0.94      0.94      0.94       834\n",
      "\n"
     ]
    }
   ],
   "source": [
    "# Define 'dtree_best' using the best parameters returned\n",
    "dtree_best = DecisionTreeClassifier(criterion = 'gini', max_depth = 10, min_samples_leaf = 2, min_samples_split = 6)\n",
    "dtree_best.fit(X_train, y_train)\n",
    "y_pred = dtree_best.predict(X_test)\n",
    "print('Accuracy:', round(accuracy_score(y_test, y_pred),2))\n",
    "print('Precision:', round(precision_score(y_test, y_pred),2))\n",
    "print('Recall:', round(recall_score(y_test, y_pred),2))\n",
    "print('F1:', round(f1_score(y_test, y_pred),2))\n",
    "\n",
    "# Display the results in a classification report\n",
    "target_names = ['no churn', 'churn']\n",
    "print(classification_report(y_test, y_pred, target_names=target_names))"
   ]
  },
  {
   "cell_type": "markdown",
   "metadata": {},
   "source": [
    "So far, the evaluation metrics for the DecisionTreeClassifier are the best among all the models we've built. Currently, recall score is the lowest among accuracy, precision, recall, and F1. To reiterate, we want to emphasize improving the model's recall because we're aiming to reduce false negatives. We've been scoring based on accuracy up until now, since accuracy is commonly understood by the general public. For this next and final run, we'll change the scoring parameter within `GridSearchCV` to \"recall\" and keep all else equal."
   ]
  },
  {
   "cell_type": "code",
   "execution_count": 60,
   "metadata": {},
   "outputs": [
    {
     "name": "stdout",
     "output_type": "stream",
     "text": [
      "Optimal combination: {'criterion': 'entropy', 'max_depth': 13, 'min_samples_leaf': 1, 'min_samples_split': 2}\n"
     ]
    }
   ],
   "source": [
    "# Instantiate another decision tree and define the grid for 'GridSearchCV'\n",
    "tree = DecisionTreeClassifier()\n",
    "grid = {'max_depth': np.arange(1, 21, 1),\n",
    "         'min_samples_split': np.arange(2, 11, 2),\n",
    "         'min_samples_leaf': np.arange(1, 6),\n",
    "         'criterion': ['gini', 'entropy']}\n",
    "\n",
    "# Define the gridsearch for the decision tree and fit it on the training set\n",
    "# Set the 'scoring' parameter to 'recall' this time\n",
    "tree_gridsearch2 = GridSearchCV(tree, grid, cv=5, scoring='recall')\n",
    "tree_gridsearch2.fit(X_train, y_train)\n",
    "print(\"Optimal combination:\", tree_gridsearch2.best_params_)"
   ]
  },
  {
   "cell_type": "markdown",
   "metadata": {},
   "source": [
    "Once again, we used `best_params_` to get the best combination of parameters after tuning the model to maximize recall. We define another decision tree called `dtree_best2` and create a second classification report below."
   ]
  },
  {
   "cell_type": "code",
   "execution_count": 61,
   "metadata": {},
   "outputs": [
    {
     "name": "stdout",
     "output_type": "stream",
     "text": [
      "Accuracy: 0.92\n",
      "Precision: 0.75\n",
      "Recall: 0.7\n",
      "F1: 0.73\n",
      "              precision    recall  f1-score   support\n",
      "\n",
      "    no churn       0.95      0.96      0.96       713\n",
      "       churn       0.75      0.70      0.73       121\n",
      "\n",
      "    accuracy                           0.92       834\n",
      "   macro avg       0.85      0.83      0.84       834\n",
      "weighted avg       0.92      0.92      0.92       834\n",
      "\n"
     ]
    }
   ],
   "source": [
    "# Define 'dtree_best2' using the best parameters returned\n",
    "dtree_best2 = DecisionTreeClassifier(criterion = 'entropy', max_depth = 13, min_samples_leaf = 1, min_samples_split = 2)\n",
    "dtree_best2.fit(X_train, y_train)\n",
    "y_pred = dtree_best2.predict(X_test)\n",
    "\n",
    "# Evaluate the decision tree and print the results\n",
    "dtree_acc = round(accuracy_score(y_test, y_pred),2)\n",
    "dtree_prec = round(precision_score(y_test, y_pred),2)\n",
    "dtree_rec = round(recall_score(y_test, y_pred),2)\n",
    "dtree_f1 = round(f1_score(y_test, y_pred),2)\n",
    "print('Accuracy:', dtree_acc)\n",
    "print('Precision:', dtree_prec)\n",
    "print('Recall:', dtree_rec)\n",
    "print('F1:', dtree_f1)\n",
    "\n",
    "# Display the results in a classification report\n",
    "target_names = ['no churn', 'churn']\n",
    "print(classification_report(y_test, y_pred, target_names=target_names))"
   ]
  },
  {
   "cell_type": "markdown",
   "metadata": {},
   "source": [
    "Though accuracy and precision have fallen slightly, our recall score has increased from 0.67 to 0.70. Given the context of the business problem, we'll use this version of the `DecisionTreeClassifier` to plot a confusion matrix and define the final model."
   ]
  },
  {
   "cell_type": "code",
   "execution_count": 62,
   "metadata": {
    "scrolled": true
   },
   "outputs": [
    {
     "data": {
      "text/plain": [
       "Text(0.5, 1.0, 'Decision Tree Confusion Matrix')"
      ]
     },
     "execution_count": 62,
     "metadata": {},
     "output_type": "execute_result"
    },
    {
     "data": {
      "image/png": "[encoded data removed]",
      "text/plain": [
       "<Figure size 432x288 with 2 Axes>"
      ]
     },
     "metadata": {
      "needs_background": "light"
     },
     "output_type": "display_data"
    }
   ],
   "source": [
    "# Import relevant function(s)\n",
    "from sklearn.metrics import confusion_matrix, ConfusionMatrixDisplay\n",
    "\n",
    "# Define the confusion matrix and create a display\n",
    "cm = confusion_matrix(y_test, y_pred)\n",
    "disp = ConfusionMatrixDisplay(cm)\n",
    "disp.plot()\n",
    "disp.ax_.set_title(\"Decision Tree Confusion Matrix\")"
   ]
  },
  {
   "cell_type": "markdown",
   "metadata": {},
   "source": [
    "Based on the confusion matrix, our decision tree model has around 36 false negatives, corresponding to a recall score of 70%. Though it's not extremely high, the decision tree produces the highest recall score thus far and performs relatively well on other fronts. The model has a high accuracy of 92%, a precision of 75%, and an F1 (combination of recall and precision) of 73%. We can now set the decision tree with its tuned hyperparameters as our final model."
   ]
  },
  {
   "cell_type": "markdown",
   "metadata": {},
   "source": [
    "## Final Model and Feature Importances\n",
    "To summarize all the algorithms that we've tested so far, below is a summary table showing the evaluation metrics that correspond to the best run of each model."
   ]
  },
  {
   "cell_type": "code",
   "execution_count": 63,
   "metadata": {},
   "outputs": [
    {
     "data": {
      "text/html": [
       "<div>\n",
       "<style scoped>\n",
       "    .dataframe tbody tr th:only-of-type {\n",
       "        vertical-align: middle;\n",
       "    }\n",
       "\n",
       "    .dataframe tbody tr th {\n",
       "        vertical-align: top;\n",
       "    }\n",
       "\n",
       "    .dataframe thead th {\n",
       "        text-align: right;\n",
       "    }\n",
       "</style>\n",
       "<table border=\"1\" class=\"dataframe\">\n",
       "  <thead>\n",
       "    <tr style=\"text-align: right;\">\n",
       "      <th></th>\n",
       "      <th>Accuracy</th>\n",
       "      <th>Precision</th>\n",
       "      <th>Recall</th>\n",
       "      <th>F1</th>\n",
       "    </tr>\n",
       "    <tr>\n",
       "      <th>Model</th>\n",
       "      <th></th>\n",
       "      <th></th>\n",
       "      <th></th>\n",
       "      <th></th>\n",
       "    </tr>\n",
       "  </thead>\n",
       "  <tbody>\n",
       "    <tr>\n",
       "      <th>Logistic Regression</th>\n",
       "      <td>0.72</td>\n",
       "      <td>0.71</td>\n",
       "      <td>0.73</td>\n",
       "      <td>0.72</td>\n",
       "    </tr>\n",
       "    <tr>\n",
       "      <th>kNN</th>\n",
       "      <td>0.88</td>\n",
       "      <td>0.64</td>\n",
       "      <td>0.32</td>\n",
       "      <td>0.43</td>\n",
       "    </tr>\n",
       "    <tr>\n",
       "      <th>Decision Tree</th>\n",
       "      <td>0.92</td>\n",
       "      <td>0.75</td>\n",
       "      <td>0.70</td>\n",
       "      <td>0.73</td>\n",
       "    </tr>\n",
       "  </tbody>\n",
       "</table>\n",
       "</div>"
      ],
      "text/plain": [
       "                     Accuracy  Precision  Recall    F1\n",
       "Model                                                 \n",
       "Logistic Regression      0.72       0.71    0.73  0.72\n",
       "kNN                      0.88       0.64    0.32  0.43\n",
       "Decision Tree            0.92       0.75    0.70  0.73"
      ]
     },
     "execution_count": 63,
     "metadata": {},
     "output_type": "execute_result"
    }
   ],
   "source": [
    "# Store all the information inside a list called 'summary_data'\n",
    "summary_data = [['Logistic Regression', logreg_sm_acc, logreg_sm_prec, logreg_sm_rec, logreg_sm_f1], ['kNN', kNN_acc, kNN_prec, kNN_rec, kNN_f1], ['Decision Tree', dtree_acc, dtree_prec, dtree_rec, dtree_f1]]\n",
    "\n",
    "# Pass everything through a dataframe called 'summary'\n",
    "summary = pd.DataFrame(summary_data, columns = ['Model', 'Accuracy', 'Precision', 'Recall', 'F1'])\n",
    "summary = round(summary, 2)\n",
    "summary.set_index('Model', inplace=True)\n",
    "\n",
    "# Display the table\n",
    "summary"
   ]
  },
  {
   "cell_type": "markdown",
   "metadata": {},
   "source": [
    "The summary table indicates that a decision tree is the best algorithm to use. Though it has a slightly lower recall score than that of the logistic regression, the decision tree model is still substantially more accurate and precise than the logistic regression.\n",
    "\n",
    "Now that we've determined the highest performing iteration from each algorithm, we'll instantiate a `final_model` variable with the best hyperparameters. We'll print out its accuracy, precision, recall, and F1 as well."
   ]
  },
  {
   "cell_type": "code",
   "execution_count": 69,
   "metadata": {},
   "outputs": [
    {
     "name": "stdout",
     "output_type": "stream",
     "text": [
      "Accuracy: 0.92\n",
      "Precision: 0.75\n",
      "Recall: 0.7\n",
      "F1: 0.72\n"
     ]
    }
   ],
   "source": [
    "# Define the final_model variable to be the DecisionTreeClassifier\n",
    "final_model = DecisionTreeClassifier(criterion = 'entropy', max_depth = 13, min_samples_leaf = 1, min_samples_split = 2)\n",
    "final_model.fit(X_train, y_train)\n",
    "pred = final_model.predict(X_test)\n",
    "\n",
    "# Display the evaluation metrics\n",
    "print('Accuracy:', round(accuracy_score(y_test, pred),2))\n",
    "print('Precision:', round(precision_score(y_test, pred),2))\n",
    "print('Recall:', round(recall_score(y_test, pred),2))\n",
    "print('F1:', round(f1_score(y_test, pred),2))"
   ]
  },
  {
   "cell_type": "markdown",
   "metadata": {},
   "source": [
    "Using our `final_model`, we can discern which inputs are the most relevant for predicting if a customer will churn. To do this, we use the fitted attribute `feature_importances_`. The results are visualized below."
   ]
  },
  {
   "cell_type": "code",
   "execution_count": 70,
   "metadata": {
    "scrolled": false
   },
   "outputs": [
    {
     "data": {
      "text/plain": [
       "Text(0.5, 1.0, \"Decision Tree Classifier: Feature Importance for SyriaTel's Dataset\")"
      ]
     },
     "execution_count": 70,
     "metadata": {},
     "output_type": "execute_result"
    },
    {
     "data": {
      "image/png": "[encoded data removed]",
      "text/plain": [
       "<Figure size 720x360 with 1 Axes>"
      ]
     },
     "metadata": {
      "needs_background": "light"
     },
     "output_type": "display_data"
    }
   ],
   "source": [
    "# Define figure and axes\n",
    "fig, ax = plt.subplots(figsize = (10, 5))\n",
    "\n",
    "# Define feature importances and plot the results for visualization\n",
    "final_fi = pd.Series(final_model.feature_importances_, index = X.columns).sort_values(ascending=False)\n",
    "sns.barplot(ax = ax, x = final_fi, y = final_fi.index)\n",
    "ax.set_xlabel('Feature Importance')\n",
    "ax.set_ylabel('Features')\n",
    "ax.set_title(\"Decision Tree Classifier: Feature Importance for SyriaTel's Dataset\")"
   ]
  },
  {
   "cell_type": "markdown",
   "metadata": {},
   "source": [
    "Our graph of feature importances shows that `total day charge`, `total eve charge`, and `customer service calls` are the most pertinent variables for predicting customer churn."
   ]
  },
  {
   "cell_type": "markdown",
   "metadata": {},
   "source": [
    "## Conclusion and Final Recommendations\n",
    "After using several algorithms and conducting iterative processes for each, we've determined that a DecisionTreeClassifier with the following parameters returns predictions with the best evaluation metrics:\n",
    "\n",
    "`DecisionTreeClassifier(criterion = 'entropy', max_depth = 13, min_samples_leaf = 1, min_samples_split = 2)`\n",
    "\n",
    "Instantiating a DecisionTreeClassifier with the tuned hyperparameters results in:"
   ]
  },
  {
   "cell_type": "code",
   "execution_count": 71,
   "metadata": {},
   "outputs": [
    {
     "name": "stdout",
     "output_type": "stream",
     "text": [
      "Accuracy: 0.92\n",
      "Precision: 0.75\n",
      "Recall: 0.7\n",
      "F1: 0.73\n"
     ]
    }
   ],
   "source": [
    "print('Accuracy:', dtree_acc)\n",
    "print('Precision:', dtree_prec)\n",
    "print('Recall:', dtree_rec)\n",
    "print('F1:', dtree_f1)"
   ]
  },
  {
   "cell_type": "markdown",
   "metadata": {},
   "source": [
    "By looking at the testing data's evaluation metrics and the confusion matrix produced, we can conclude that this model results in the least number of false negatives, which is what we want to minimize in this context. When we use this decision tree model to map out the most influential features on determining customer churn, we find that the most important attributes are:\n",
    "\n",
    "* `total day charge`\n",
    "* `total eve charge`\n",
    "* `customer service calls`\n",
    "\n",
    "Overall, we can conclude that customer churn is highly dependent on how much a client is currently paying in phone bills and how often they experience issues requiring customer service. From our data exploration stage, it shows that the 75th percentile for `total day charge`, `total eve charge`, and `customer service calls` are \\\\$ 37, \\\\$ 20, and 2 calls, respectively. Knowing this, SyriaTel can implement some strategies to increase brand loyalty and raise retention rates for customers ranging near these numbers:\n",
    "\n",
    "* Added value: Once consumers start paying above a certain threshold, SyriaTel should offer discounts on other services such as internet or entertainment.\n",
    "\n",
    "* Rewards programs: Research has demonstrated that rewards for loyalty enables businesses to charge higher without as much churn.\n",
    "\n",
    "* Omnichannel support: SyriaTel can ensure its team is well-equipped to handle requests to create a stress-free process and readily-available help.\n",
    "\n",
    "* Price transparency: Consumers often lose sight of what they're paying for. When bills get too high, they can easily swap out for a cheaper service without knowing what they're losing out on. SyriaTel should provide a clear breakdown of every bill and use terms easily understood by the public."
   ]
  },
  {
   "cell_type": "markdown",
   "metadata": {},
   "source": [
    "## Further Analyses\n",
    "* Compare churn data with that of competitors to see how SyriaTel's business fares in comparison\n",
    "* Implement customer retention strategies incrementally, and repeat the same analysis to decide which course of action is the most effective\n",
    "* Dive deeper into price analysis so SyriaTel can estimate the highest price they can charge customers without resulting in churns and pinpoint factors that determine a client's price sensitivity"
   ]
  },
  {
   "cell_type": "markdown",
   "metadata": {},
   "source": [
    "## Contact Information\n",
    "* E-mail: kezia.setokusumo@stern.nyu.edu\n",
    "* [Github](https://github.com/keziasetokusumo)\n",
    "* [LinkedIn](https://linkedin.com/in/keziasetokusumo/)"
   ]
  }
 ],
 "metadata": {
  "kernelspec": {
   "display_name": "Python 3 (ipykernel)",
   "language": "python",
   "name": "python3"
  },
  "language_info": {
   "codemirror_mode": {
    "name": "ipython",
    "version": 3
   },
   "file_extension": ".py",
   "mimetype": "text/x-python",
   "name": "python",
   "nbconvert_exporter": "python",
   "pygments_lexer": "ipython3",
   "version": "3.9.12"
  }
 },
 "nbformat": 4,
 "nbformat_minor": 2
}
